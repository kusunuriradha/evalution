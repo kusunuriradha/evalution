{
  "cells": [
    {
      "cell_type": "markdown",
      "source": [
        "\n",
        "link:https://archive.ics.uci.edu/dataset/19/car+evaluation"
      ],
      "metadata": {
        "id": "g1jSG4-VIWU_"
      },
      "id": "g1jSG4-VIWU_"
    },
    {
      "cell_type": "code",
      "execution_count": null,
      "id": "cac45885",
      "metadata": {
        "id": "cac45885"
      },
      "outputs": [],
      "source": [
        "#Importing the packages\n",
        "import numpy as np\n",
        "import pandas as pd\n",
        "import matplotlib.pyplot as plt\n",
        "from sklearn.tree import DecisionTreeClassifier\n",
        "from sklearn.neighbors import KNeighborsClassifier\n",
        "from sklearn.ensemble import RandomForestClassifier\n",
        "from sklearn.model_selection import train_test_split\n",
        "from sklearn.decomposition import PCA\n",
        "from sklearn.metrics import accuracy_score, mean_absolute_error, mean_squared_error, r2_score,classification_report\n",
        "from sklearn.naive_bayes import GaussianNB"
      ]
    },
    {
      "cell_type": "code",
      "execution_count": null,
      "id": "d08c8bfe",
      "metadata": {
        "id": "d08c8bfe"
      },
      "outputs": [],
      "source": [
        "#Reading the car evaulation dataset\n",
        "car_eval_df=pd.read_csv(r\"C:\\\\RadhaCar_Evaluation_Analysis\\Car_Data.csv\")"
      ]
    },
    {
      "cell_type": "code",
      "execution_count": null,
      "id": "6b73552f",
      "metadata": {
        "id": "6b73552f"
      },
      "outputs": [],
      "source": [
        "#Assigning the numerical value to the dependent variable\n",
        "conditions0=[\n",
        "    car_eval_df['Class']=='unacc',\n",
        "    car_eval_df['Class']=='acc',\n",
        "    car_eval_df['Class']=='good',\n",
        "    car_eval_df['Class']=='vgood'\n",
        "\n",
        "]\n",
        "values0=[0,1,2,3]\n",
        "car_eval_df['Class_Cat']=np.select(conditions0,values0)"
      ]
    },
    {
      "cell_type": "code",
      "execution_count": null,
      "id": "10abcd44",
      "metadata": {
        "id": "10abcd44",
        "outputId": "05068d9e-e762-4de6-cd27-93adb30edb6f"
      },
      "outputs": [
        {
          "data": {
            "text/plain": [
              "array([0, 1, 3, 2])"
            ]
          },
          "execution_count": 4,
          "metadata": {},
          "output_type": "execute_result"
        }
      ],
      "source": [
        "car_eval_df['Class_Cat'].unique()"
      ]
    },
    {
      "cell_type": "code",
      "execution_count": null,
      "id": "1c243b41",
      "metadata": {
        "id": "1c243b41",
        "outputId": "f63472a8-2a74-4d03-f827-8928bc57d453"
      },
      "outputs": [
        {
          "name": "stdout",
          "output_type": "stream",
          "text": [
            "<class 'pandas.core.frame.DataFrame'>\n",
            "RangeIndex: 1728 entries, 0 to 1727\n",
            "Data columns (total 8 columns):\n",
            " #   Column        Non-Null Count  Dtype \n",
            "---  ------        --------------  ----- \n",
            " 0   Buying        1728 non-null   object\n",
            " 1   Maintenance   1728 non-null   object\n",
            " 2   Doors         1728 non-null   int64 \n",
            " 3   Persons       1728 non-null   int64 \n",
            " 4   Luggage_boot  1728 non-null   object\n",
            " 5   Safety        1728 non-null   object\n",
            " 6   Class         1728 non-null   object\n",
            " 7   Class_Cat     1728 non-null   int32 \n",
            "dtypes: int32(1), int64(2), object(5)\n",
            "memory usage: 101.4+ KB\n"
          ]
        }
      ],
      "source": [
        "car_eval_df.info()"
      ]
    },
    {
      "cell_type": "code",
      "execution_count": null,
      "id": "76470a12",
      "metadata": {
        "id": "76470a12"
      },
      "outputs": [],
      "source": [
        "#Changing the null values in the dataset with 0\n",
        "car_eval_df=car_eval_df.fillna(0)"
      ]
    },
    {
      "cell_type": "code",
      "execution_count": null,
      "id": "3d0ed85f",
      "metadata": {
        "id": "3d0ed85f"
      },
      "outputs": [],
      "source": [
        "# Assigning the independent variables and dependent variable\n",
        "feature = car_eval_df.drop(['Class','Class_Cat'],axis=1)\n",
        "target = car_eval_df.loc[:,'Class_Cat']"
      ]
    },
    {
      "cell_type": "code",
      "execution_count": null,
      "id": "8c7fbec4",
      "metadata": {
        "id": "8c7fbec4"
      },
      "outputs": [],
      "source": [
        "#Convert the categorical variables to dummy variables\n",
        "Buying = pd.get_dummies(feature['Buying'],drop_first=True)\n",
        "Maintenance=pd.get_dummies(feature['Maintenance'],drop_first=True)\n",
        "Luggage_boot=pd.get_dummies(feature['Luggage_boot'],drop_first=True)\n",
        "Safety=pd.get_dummies(feature['Safety'],drop_first=True)"
      ]
    },
    {
      "cell_type": "code",
      "execution_count": null,
      "id": "bfca64a3",
      "metadata": {
        "id": "bfca64a3"
      },
      "outputs": [],
      "source": [
        "#Keeping required feature variables\n",
        "feature.drop(['Buying','Maintenance','Luggage_boot','Safety'],axis=1,inplace=True)"
      ]
    },
    {
      "cell_type": "code",
      "execution_count": null,
      "id": "adc51ac5",
      "metadata": {
        "id": "adc51ac5"
      },
      "outputs": [],
      "source": [
        "#Concatenating  the feature variable with created dummies\n",
        "feature = pd.concat([feature,Buying,Maintenance,Luggage_boot,Safety],axis=1)"
      ]
    },
    {
      "cell_type": "code",
      "execution_count": null,
      "id": "fa8230f0",
      "metadata": {
        "id": "fa8230f0"
      },
      "outputs": [],
      "source": [
        "#Segregating the dataset into training data and test data\n",
        "X_train,X_test,Y_train,Y_test = train_test_split(feature, target ,test_size=0.25,random_state=10)"
      ]
    },
    {
      "cell_type": "code",
      "execution_count": null,
      "id": "3452f156",
      "metadata": {
        "id": "3452f156",
        "outputId": "e657a039-d0b7-4996-d8af-9b4c24083abc"
      },
      "outputs": [
        {
          "name": "stdout",
          "output_type": "stream",
          "text": [
            "Classification Report of Random Forest->\n",
            "               precision    recall  f1-score   support\n",
            "\n",
            "           0       1.00      0.99      0.99       307\n",
            "           1       0.90      0.96      0.93        84\n",
            "           2       0.75      0.63      0.69        19\n",
            "           3       0.95      0.95      0.95        22\n",
            "\n",
            "    accuracy                           0.97       432\n",
            "   macro avg       0.90      0.88      0.89       432\n",
            "weighted avg       0.96      0.97      0.96       432\n",
            "\n",
            "Mean Absolute Error of Random Forest-> 0.037037037037037035\n",
            "Root Mean Squared Error of Random Forest-> 0.2041241452319315\n",
            "R-squared value of Random Forest-> 0.934826337669304\n"
          ]
        }
      ],
      "source": [
        "#Random forest algorithm\n",
        "import warnings\n",
        "with warnings.catch_warnings(record=True):\n",
        "    randm_for_algrthm= RandomForestClassifier(random_state=2)\n",
        "    randm_for_algrthm.fit(X_train,Y_train)\n",
        "    Y_pred1=randm_for_algrthm.predict(X_test)\n",
        "    print('Classification Report of Random Forest->\\n',classification_report(Y_test, Y_pred1))\n",
        "    print('Mean Absolute Error of Random Forest->', mean_absolute_error(Y_test, Y_pred1))\n",
        "    print('Root Mean Squared Error of Random Forest->', np.sqrt(mean_squared_error(Y_test, Y_pred1)))\n",
        "    print('R-squared value of Random Forest->',r2_score(Y_test, Y_pred1))"
      ]
    },
    {
      "cell_type": "code",
      "execution_count": null,
      "id": "487d02e1",
      "metadata": {
        "id": "487d02e1",
        "outputId": "cdc585e8-f2df-40f1-9003-8fc369a6dc18"
      },
      "outputs": [
        {
          "name": "stdout",
          "output_type": "stream",
          "text": [
            "Classification Report of Decision Tree->\n",
            "               precision    recall  f1-score   support\n",
            "\n",
            "           0       1.00      1.00      1.00       307\n",
            "           1       0.96      0.95      0.96        84\n",
            "           2       0.71      0.89      0.79        19\n",
            "           3       1.00      0.82      0.90        22\n",
            "\n",
            "    accuracy                           0.97       432\n",
            "   macro avg       0.92      0.92      0.91       432\n",
            "weighted avg       0.98      0.97      0.98       432\n",
            "\n",
            "Mean Absolute Error of Decision Tree-> 0.02546296296296296\n",
            "Root Mean Squared Error of Decision Tree-> 0.15957118462605635\n",
            "R-squared value of Decision Tree-> 0.960171650797908\n"
          ]
        }
      ],
      "source": [
        "#Decision Tree algorithm\n",
        "import warnings\n",
        "with warnings.catch_warnings(record=True):\n",
        "    dcsn_tree_algrthm= DecisionTreeClassifier()\n",
        "    dcsn_tree_algrthm.fit(X_train,Y_train)\n",
        "    Y_pred2=dcsn_tree_algrthm.predict(X_test)\n",
        "    print('Classification Report of Decision Tree->\\n',classification_report(Y_test, Y_pred2))\n",
        "    print('Mean Absolute Error of Decision Tree->', mean_absolute_error(Y_test, Y_pred2))\n",
        "    print('Root Mean Squared Error of Decision Tree->', np.sqrt(mean_squared_error(Y_test, Y_pred2)))\n",
        "    print('R-squared value of Decision Tree->',r2_score(Y_test, Y_pred2))"
      ]
    },
    {
      "cell_type": "code",
      "execution_count": null,
      "id": "bf493ae3",
      "metadata": {
        "id": "bf493ae3",
        "outputId": "3cda7a48-bfcb-4db4-c036-a4effb920e0e"
      },
      "outputs": [
        {
          "name": "stdout",
          "output_type": "stream",
          "text": [
            "Classification Report of K Nearest Neighbour->\n",
            "               precision    recall  f1-score   support\n",
            "\n",
            "           0       0.90      0.96      0.93       307\n",
            "           1       0.63      0.69      0.66        84\n",
            "           2       0.29      0.11      0.15        19\n",
            "           3       0.88      0.32      0.47        22\n",
            "\n",
            "    accuracy                           0.84       432\n",
            "   macro avg       0.67      0.52      0.55       432\n",
            "weighted avg       0.82      0.84      0.82       432\n",
            "\n",
            "Mean Absolute Error of K Nearest Neighbour-> 0.22685185185185186\n",
            "Root Mean Squared Error of K Nearest Neighbour-> 0.6273105439242341\n",
            "R-squared value of K Nearest Neighbour-> 0.3844709668767602\n"
          ]
        }
      ],
      "source": [
        "#K Nearest Neighbour algorithm\n",
        "import warnings\n",
        "with warnings.catch_warnings(record=True):\n",
        "    knn_algrthm=  KNeighborsClassifier(n_neighbors = 3, metric = 'euclidean', p = 2)\n",
        "    knn_algrthm.fit(X_train,Y_train)\n",
        "    Y_pred3=knn_algrthm.predict(X_test)\n",
        "    print('Classification Report of K Nearest Neighbour->\\n',classification_report(Y_test, Y_pred3))\n",
        "    print('Mean Absolute Error of K Nearest Neighbour->', mean_absolute_error(Y_test, Y_pred3))\n",
        "    print('Root Mean Squared Error of K Nearest Neighbour->', np.sqrt(mean_squared_error(Y_test, Y_pred3)))\n",
        "    print('R-squared value of K Nearest Neighbour->',r2_score(Y_test, Y_pred3))"
      ]
    },
    {
      "cell_type": "code",
      "execution_count": null,
      "id": "64e1823f",
      "metadata": {
        "id": "64e1823f"
      },
      "outputs": [],
      "source": [
        "#Principal Component Analysis Clustering\n",
        "pca = PCA()\n",
        "vlues = feature.values\n",
        "pca.fit(vlues)\n",
        "car_pca = pca.transform(vlues)"
      ]
    },
    {
      "cell_type": "code",
      "execution_count": null,
      "id": "8b50255c",
      "metadata": {
        "id": "8b50255c",
        "outputId": "d610b97e-0c89-4522-d0e1-6ee9eeb690ca"
      },
      "outputs": [
        {
          "data": {
            "text/plain": [
              "Text(0.5, 0, 'PC 1')"
            ]
          },
          "execution_count": 17,
          "metadata": {},
          "output_type": "execute_result"
        },
        {
          "data": {
            "image/png": "[encoded data removed]",
            "text/plain": [
              "<Figure size 432x288 with 1 Axes>"
            ]
          },
          "metadata": {
            "needs_background": "light"
          },
          "output_type": "display_data"
        }
      ],
      "source": [
        "#Scatter visualisation for PC1 vs PC2\n",
        "axis = plt.gca()\n",
        "axis.scatter(car_pca[:,0], car_pca[:,1])\n",
        "axis.set_ylabel('PC 2')\n",
        "axis.set_xlabel('PC 1')"
      ]
    },
    {
      "cell_type": "code",
      "execution_count": null,
      "id": "568a264b",
      "metadata": {
        "id": "568a264b",
        "outputId": "25719951-a9b2-4208-8a89-a05434ba8410"
      },
      "outputs": [
        {
          "data": {
            "text/plain": [
              "[Text(0, 0, 'PC0'),\n",
              " Text(1, 0, 'PC1'),\n",
              " Text(2, 0, 'PC2'),\n",
              " Text(3, 0, 'PC3'),\n",
              " Text(4, 0, 'PC4'),\n",
              " Text(5, 0, 'PC5'),\n",
              " Text(6, 0, 'PC6'),\n",
              " Text(7, 0, 'PC7'),\n",
              " Text(8, 0, 'PC8'),\n",
              " Text(9, 0, 'PC9'),\n",
              " Text(10, 0, 'PC10'),\n",
              " Text(11, 0, 'PC11')]"
            ]
          },
          "execution_count": 20,
          "metadata": {},
          "output_type": "execute_result"
        },
        {
          "data": {
            "image/png": "[encoded data removed]",
            "text/plain": [
              "<Figure size 432x288 with 1 Axes>"
            ]
          },
          "metadata": {
            "needs_background": "light"
          },
          "output_type": "display_data"
        }
      ],
      "source": [
        "#Scree plot visualisation\n",
        "axis = plt.gca()\n",
        "explain_varnce = pca.explained_variance_ratio_\n",
        "axis.plot(explain_varnce, marker='x')\n",
        "axis.set_ylim(0,1.)\n",
        "axis.set_xticks([0,1,2,3,4,5,6,7,8,9,10,11])\n",
        "axis.set_xlabel('PC')\n",
        "axis.set_xticklabels([\"PC{}\".format(i) for i in range(12)])"
      ]
    },
    {
      "cell_type": "code",
      "execution_count": null,
      "id": "bf62fb92",
      "metadata": {
        "id": "bf62fb92",
        "outputId": "bd3e37b0-e005-4e31-ed41-5c3de288e6f9"
      },
      "outputs": [
        {
          "name": "stdout",
          "output_type": "stream",
          "text": [
            "Variance explanation by principal components: [0.44964871 0.21077283 0.05620609 0.05620609 0.04215457 0.04215457\n",
            " 0.04215457 0.04215457 0.01873536 0.01873536 0.01053864 0.01053864]\n"
          ]
        }
      ],
      "source": [
        "#Variance explanation output\n",
        "print(\"Variance explanation by principal components:\",explain_varnce)"
      ]
    },
    {
      "cell_type": "code",
      "execution_count": null,
      "id": "88e282b0",
      "metadata": {
        "id": "88e282b0"
      },
      "outputs": [],
      "source": []
    }
  ],
  "metadata": {
    "kernelspec": {
      "display_name": "Python 3 (ipykernel)",
      "language": "python",
      "name": "python3"
    },
    "language_info": {
      "codemirror_mode": {
        "name": "ipython",
        "version": 3
      },
      "file_extension": ".py",
      "mimetype": "text/x-python",
      "name": "python",
      "nbconvert_exporter": "python",
      "pygments_lexer": "ipython3",
      "version": "3.9.7"
    },
    "colab": {
      "provenance": []
    }
  },
  "nbformat": 4,
  "nbformat_minor": 5
}